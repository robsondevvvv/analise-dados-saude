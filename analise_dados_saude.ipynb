{
 "cells": [
  {
   "cell_type": "markdown",
   "id": "4780c0fc-a799-47f6-b6ba-fba58082824e",
   "metadata": {},
   "source": [
    "# Análise de Dados de Saúde\n",
    "\n",
    "Este projeto tem como objetivo analisar dados de pacientes para extrair insights importantes, como padrões de condições médicas, custos de internação e distribuição demográfica dos pacientes. A base de dados contém informações sobre internações, incluindo dados pessoais, médicos, financeiros e temporais.\n",
    "\n",
    "O objetivo desta análise é responder a perguntas como:\n",
    "- Quais são as condições médicas mais comuns?\n",
    "- Como se distribui a idade dos pacientes?\n",
    "- Existe alguma relação entre idade, condição médica e custo da internação?"
   ]
  },
  {
   "cell_type": "markdown",
   "id": "5d8ea63a",
   "metadata": {},
   "source": [
    "## Introdução\n",
    "Esta análise explora padrões em dados de internação hospitalar, focando em gerar informações úteis para convênios médicos. A análise traz insights sobre o perfil dos pacientes, prevalência de condições médicas, custo médio de internações e diferenças demográficas que podem ser relevantes para as operadoras de convênios."
   ]
  },
  {
   "cell_type": "markdown",
   "id": "52a78a79-6d02-4423-8cf2-3e46a0aff1be",
   "metadata": {
    "scrolled": true
   },
   "source": [
    "## Escolha da biblioteca utilizada para lidar com os dados\n",
    "\n",
    "Iniciamos o projeto escolhendo qual biblioteca para manipulação de dados será utilizada"
   ]
  },
  {
   "cell_type": "code",
   "execution_count": 4,
   "id": "d53d874f-0d85-47e1-9a3e-779b19bd55db",
   "metadata": {},
   "outputs": [],
   "source": [
    "import pandas as pd\n",
    "\n",
    "basedados = pd.read_csv(\"basedadossaude.csv\")"
   ]
  },
  {
   "cell_type": "markdown",
   "id": "fa51ab91-add3-43b4-ac17-8d1a69a70995",
   "metadata": {
    "scrolled": true
   },
   "source": [
    "## Carregamento e Panorama dos Dados\n",
    "\n",
    "Continuamos, agora com o carregamento da base de dados e exibindo as primeiras linhas para entender a estrutura do conjunto de dados. Isso permite identificar as colunas e os tipos de variáveis com que vamos trabalhar."
   ]
  },
  {
   "cell_type": "code",
   "execution_count": 6,
   "id": "94813d1c-4281-4d77-a16b-eed0276ccb5e",
   "metadata": {
    "scrolled": true
   },
   "outputs": [
    {
     "name": "stdout",
     "output_type": "stream",
     "text": [
      "Primeiras linhas do DataFrame:\n"
     ]
    },
    {
     "data": {
      "text/html": [
       "<div>\n",
       "<style scoped>\n",
       "    .dataframe tbody tr th:only-of-type {\n",
       "        vertical-align: middle;\n",
       "    }\n",
       "\n",
       "    .dataframe tbody tr th {\n",
       "        vertical-align: top;\n",
       "    }\n",
       "\n",
       "    .dataframe thead th {\n",
       "        text-align: right;\n",
       "    }\n",
       "</style>\n",
       "<table border=\"1\" class=\"dataframe\">\n",
       "  <thead>\n",
       "    <tr style=\"text-align: right;\">\n",
       "      <th></th>\n",
       "      <th>Name</th>\n",
       "      <th>Age</th>\n",
       "      <th>Gender</th>\n",
       "      <th>Blood Type</th>\n",
       "      <th>Medical Condition</th>\n",
       "      <th>Date of Admission</th>\n",
       "      <th>Doctor</th>\n",
       "      <th>Hospital</th>\n",
       "      <th>Insurance Provider</th>\n",
       "      <th>Billing Amount</th>\n",
       "      <th>Room Number</th>\n",
       "      <th>Admission Type</th>\n",
       "      <th>Discharge Date</th>\n",
       "      <th>Medication</th>\n",
       "      <th>Test Results</th>\n",
       "    </tr>\n",
       "  </thead>\n",
       "  <tbody>\n",
       "    <tr>\n",
       "      <th>0</th>\n",
       "      <td>Norma Fisher</td>\n",
       "      <td>51</td>\n",
       "      <td>Female</td>\n",
       "      <td>AB+</td>\n",
       "      <td>Hypertension</td>\n",
       "      <td>2023-11-24</td>\n",
       "      <td>Susan Wagner</td>\n",
       "      <td>Taylor-Davis</td>\n",
       "      <td>Blue Cross</td>\n",
       "      <td>NaN</td>\n",
       "      <td>175</td>\n",
       "      <td>Urgent</td>\n",
       "      <td>2024-04-11</td>\n",
       "      <td>Aspirin</td>\n",
       "      <td>Inconclusive</td>\n",
       "    </tr>\n",
       "    <tr>\n",
       "      <th>1</th>\n",
       "      <td>Justin Gomez</td>\n",
       "      <td>58</td>\n",
       "      <td>Male</td>\n",
       "      <td>AB-</td>\n",
       "      <td>Obesity</td>\n",
       "      <td>2024-04-11</td>\n",
       "      <td>Thomas Moon</td>\n",
       "      <td>Cortez Group</td>\n",
       "      <td>Medicare</td>\n",
       "      <td>61651.5</td>\n",
       "      <td>352</td>\n",
       "      <td>Urgent</td>\n",
       "      <td>2024-07-21</td>\n",
       "      <td>Penicillin</td>\n",
       "      <td>Inconclusive</td>\n",
       "    </tr>\n",
       "    <tr>\n",
       "      <th>2</th>\n",
       "      <td>Cheryl Bradley</td>\n",
       "      <td>48</td>\n",
       "      <td>Male</td>\n",
       "      <td>AB-</td>\n",
       "      <td>Diabetes</td>\n",
       "      <td>2020-07-11</td>\n",
       "      <td>Yolanda Burns</td>\n",
       "      <td>Arnold-Mann</td>\n",
       "      <td>Humana</td>\n",
       "      <td>34210.5</td>\n",
       "      <td>376</td>\n",
       "      <td>Emergency</td>\n",
       "      <td>2023-04-01</td>\n",
       "      <td>Lisinopril</td>\n",
       "      <td>Inconclusive</td>\n",
       "    </tr>\n",
       "    <tr>\n",
       "      <th>3</th>\n",
       "      <td>Kyle Cruz</td>\n",
       "      <td>48</td>\n",
       "      <td>Female</td>\n",
       "      <td>B+</td>\n",
       "      <td>Asthma</td>\n",
       "      <td>2021-06-07</td>\n",
       "      <td>Mary Alvarez</td>\n",
       "      <td>Shelton and Sons</td>\n",
       "      <td>Aetna</td>\n",
       "      <td>5298.0</td>\n",
       "      <td>141</td>\n",
       "      <td>Observation</td>\n",
       "      <td>2021-07-28</td>\n",
       "      <td>Lisinopril</td>\n",
       "      <td>Abnormal</td>\n",
       "    </tr>\n",
       "    <tr>\n",
       "      <th>4</th>\n",
       "      <td>Stephanie Lawrence</td>\n",
       "      <td>71</td>\n",
       "      <td>Female</td>\n",
       "      <td>AB-</td>\n",
       "      <td>Obesity</td>\n",
       "      <td>2022-11-19</td>\n",
       "      <td>Brian Matthews</td>\n",
       "      <td>Bruce-Sanchez</td>\n",
       "      <td>Blue Cross</td>\n",
       "      <td>17352.0</td>\n",
       "      <td>212</td>\n",
       "      <td>Urgent</td>\n",
       "      <td>2023-01-21</td>\n",
       "      <td>Penicillin</td>\n",
       "      <td>Abnormal</td>\n",
       "    </tr>\n",
       "  </tbody>\n",
       "</table>\n",
       "</div>"
      ],
      "text/plain": [
       "                 Name  Age  Gender Blood Type Medical Condition  \\\n",
       "0        Norma Fisher   51  Female        AB+      Hypertension   \n",
       "1        Justin Gomez   58    Male        AB-           Obesity   \n",
       "2      Cheryl Bradley   48    Male        AB-          Diabetes   \n",
       "3           Kyle Cruz   48  Female         B+            Asthma   \n",
       "4  Stephanie Lawrence   71  Female        AB-           Obesity   \n",
       "\n",
       "  Date of Admission          Doctor          Hospital Insurance Provider  \\\n",
       "0        2023-11-24    Susan Wagner      Taylor-Davis         Blue Cross   \n",
       "1        2024-04-11     Thomas Moon      Cortez Group           Medicare   \n",
       "2        2020-07-11   Yolanda Burns       Arnold-Mann             Humana   \n",
       "3        2021-06-07    Mary Alvarez  Shelton and Sons              Aetna   \n",
       "4        2022-11-19  Brian Matthews     Bruce-Sanchez         Blue Cross   \n",
       "\n",
       "   Billing Amount  Room Number Admission Type Discharge Date  Medication  \\\n",
       "0             NaN          175         Urgent     2024-04-11     Aspirin   \n",
       "1         61651.5          352         Urgent     2024-07-21  Penicillin   \n",
       "2         34210.5          376      Emergency     2023-04-01  Lisinopril   \n",
       "3          5298.0          141    Observation     2021-07-28  Lisinopril   \n",
       "4         17352.0          212         Urgent     2023-01-21  Penicillin   \n",
       "\n",
       "   Test Results  \n",
       "0  Inconclusive  \n",
       "1  Inconclusive  \n",
       "2  Inconclusive  \n",
       "3      Abnormal  \n",
       "4      Abnormal  "
      ]
     },
     "metadata": {},
     "output_type": "display_data"
    }
   ],
   "source": [
    "print(\"Primeiras linhas do DataFrame:\")\n",
    "display(basedados.head())"
   ]
  },
  {
   "cell_type": "markdown",
   "id": "51547a69-6677-40a9-afc3-6a57cbb6d112",
   "metadata": {},
   "source": [
    "# Passo 1 - Análise Exploratória Inicial (EDA)"
   ]
  },
  {
   "cell_type": "markdown",
   "id": "1e9fed2e-1b32-4f45-bd47-369b46d8cfea",
   "metadata": {},
   "source": [
    "## Descrevendo estatísticas básicas das colunas do tipo númericas"
   ]
  },
  {
   "cell_type": "code",
   "execution_count": 8,
   "id": "1a4e7bed-e396-4a9f-b511-2070d0a95bf7",
   "metadata": {},
   "outputs": [
    {
     "name": "stdout",
     "output_type": "stream",
     "text": [
      "Estatísticas descritivas:\n"
     ]
    },
    {
     "data": {
      "text/html": [
       "<div>\n",
       "<style scoped>\n",
       "    .dataframe tbody tr th:only-of-type {\n",
       "        vertical-align: middle;\n",
       "    }\n",
       "\n",
       "    .dataframe tbody tr th {\n",
       "        vertical-align: top;\n",
       "    }\n",
       "\n",
       "    .dataframe thead th {\n",
       "        text-align: right;\n",
       "    }\n",
       "</style>\n",
       "<table border=\"1\" class=\"dataframe\">\n",
       "  <thead>\n",
       "    <tr style=\"text-align: right;\">\n",
       "      <th></th>\n",
       "      <th>Age</th>\n",
       "      <th>Billing Amount</th>\n",
       "      <th>Room Number</th>\n",
       "    </tr>\n",
       "  </thead>\n",
       "  <tbody>\n",
       "    <tr>\n",
       "      <th>count</th>\n",
       "      <td>200.000000</td>\n",
       "      <td>175.000000</td>\n",
       "      <td>200.000000</td>\n",
       "    </tr>\n",
       "    <tr>\n",
       "      <th>mean</th>\n",
       "      <td>52.855000</td>\n",
       "      <td>44652.400000</td>\n",
       "      <td>260.370000</td>\n",
       "    </tr>\n",
       "    <tr>\n",
       "      <th>std</th>\n",
       "      <td>21.335887</td>\n",
       "      <td>28010.386446</td>\n",
       "      <td>86.179508</td>\n",
       "    </tr>\n",
       "    <tr>\n",
       "      <th>min</th>\n",
       "      <td>18.000000</td>\n",
       "      <td>1627.500000</td>\n",
       "      <td>104.000000</td>\n",
       "    </tr>\n",
       "    <tr>\n",
       "      <th>25%</th>\n",
       "      <td>34.000000</td>\n",
       "      <td>21284.250000</td>\n",
       "      <td>188.750000</td>\n",
       "    </tr>\n",
       "    <tr>\n",
       "      <th>50%</th>\n",
       "      <td>51.000000</td>\n",
       "      <td>40256.000000</td>\n",
       "      <td>271.000000</td>\n",
       "    </tr>\n",
       "    <tr>\n",
       "      <th>75%</th>\n",
       "      <td>71.000000</td>\n",
       "      <td>62148.000000</td>\n",
       "      <td>337.250000</td>\n",
       "    </tr>\n",
       "    <tr>\n",
       "      <th>max</th>\n",
       "      <td>90.000000</td>\n",
       "      <td>178488.000000</td>\n",
       "      <td>400.000000</td>\n",
       "    </tr>\n",
       "  </tbody>\n",
       "</table>\n",
       "</div>"
      ],
      "text/plain": [
       "              Age  Billing Amount  Room Number\n",
       "count  200.000000      175.000000   200.000000\n",
       "mean    52.855000    44652.400000   260.370000\n",
       "std     21.335887    28010.386446    86.179508\n",
       "min     18.000000     1627.500000   104.000000\n",
       "25%     34.000000    21284.250000   188.750000\n",
       "50%     51.000000    40256.000000   271.000000\n",
       "75%     71.000000    62148.000000   337.250000\n",
       "max     90.000000   178488.000000   400.000000"
      ]
     },
     "metadata": {},
     "output_type": "display_data"
    }
   ],
   "source": [
    "print(\"Estatísticas descritivas:\")\n",
    "display(basedados.describe())"
   ]
  },
  {
   "cell_type": "markdown",
   "id": "dcb50632-0188-4bf5-a6aa-5df42702a702",
   "metadata": {},
   "source": [
    "## Verificação dos tipos de dados"
   ]
  },
  {
   "cell_type": "code",
   "execution_count": 8,
   "id": "3b9b1837-27f3-4be7-8c48-223c7ec6a880",
   "metadata": {},
   "outputs": [
    {
     "name": "stdout",
     "output_type": "stream",
     "text": [
      "Tipos de dados das colunas:\n",
      "Name                   object\n",
      "Age                     int64\n",
      "Gender                 object\n",
      "Blood Type             object\n",
      "Medical Condition      object\n",
      "Date of Admission      object\n",
      "Doctor                 object\n",
      "Hospital               object\n",
      "Insurance Provider     object\n",
      "Billing Amount        float64\n",
      "Room Number             int64\n",
      "Admission Type         object\n",
      "Discharge Date         object\n",
      "Medication             object\n",
      "Test Results           object\n",
      "dtype: object\n"
     ]
    }
   ],
   "source": [
    "print(\"Tipos de dados das colunas:\")\n",
    "print(basedados.dtypes)"
   ]
  },
  {
   "cell_type": "markdown",
   "id": "96caf82e-e598-4805-8bf3-161fb0713a70",
   "metadata": {},
   "source": [
    "## Verificação de valores ausentes nas colunas"
   ]
  },
  {
   "cell_type": "code",
   "execution_count": 14,
   "id": "83df3c86-88db-4e35-80cc-3f947adda8b9",
   "metadata": {},
   "outputs": [
    {
     "name": "stdout",
     "output_type": "stream",
     "text": [
      "Valores ausentes em cada coluna:\n",
      "Name                  5\n",
      "Age                   0\n",
      "Gender                0\n",
      "Blood Type            0\n",
      "Medical Condition     0\n",
      "Date of Admission     0\n",
      "Doctor                0\n",
      "Hospital              0\n",
      "Insurance Provider    0\n",
      "Billing Amount        0\n",
      "Room Number           0\n",
      "Admission Type        0\n",
      "Discharge Date        0\n",
      "Medication            0\n",
      "Test Results          0\n",
      "dtype: int64\n"
     ]
    }
   ],
   "source": [
    "print(\"Valores ausentes em cada coluna:\")\n",
    "print(basedados.isnull().sum())"
   ]
  },
  {
   "cell_type": "markdown",
   "id": "2b71fe94-0dce-45a4-8c01-76e4e4f41672",
   "metadata": {},
   "source": [
    "# Passo 4 - Limpeza de dados"
   ]
  },
  {
   "cell_type": "markdown",
   "id": "4d0ad268-ca19-4fd7-8a45-d26c12283a76",
   "metadata": {},
   "source": [
    "## Tratamento de valores ausentes"
   ]
  },
  {
   "cell_type": "code",
   "execution_count": 16,
   "id": "9c2f3464-1f98-4753-8f33-408e647cc7fd",
   "metadata": {},
   "outputs": [],
   "source": [
    "basedados['Billing Amount'] = basedados['Billing Amount'].fillna(basedados['Billing Amount'].mean())"
   ]
  },
  {
   "cell_type": "markdown",
   "id": "55a5b064-2969-4916-ac15-d764b43ee4a0",
   "metadata": {},
   "source": [
    "## Conversão de colunas de data para o tipo datetime"
   ]
  },
  {
   "cell_type": "code",
   "execution_count": 18,
   "id": "93b94d80-674b-4542-9813-b77bacf2e368",
   "metadata": {},
   "outputs": [
    {
     "data": {
      "text/html": [
       "<div>\n",
       "<style scoped>\n",
       "    .dataframe tbody tr th:only-of-type {\n",
       "        vertical-align: middle;\n",
       "    }\n",
       "\n",
       "    .dataframe tbody tr th {\n",
       "        vertical-align: top;\n",
       "    }\n",
       "\n",
       "    .dataframe thead th {\n",
       "        text-align: right;\n",
       "    }\n",
       "</style>\n",
       "<table border=\"1\" class=\"dataframe\">\n",
       "  <thead>\n",
       "    <tr style=\"text-align: right;\">\n",
       "      <th></th>\n",
       "      <th>Name</th>\n",
       "      <th>Age</th>\n",
       "      <th>Gender</th>\n",
       "      <th>Blood Type</th>\n",
       "      <th>Medical Condition</th>\n",
       "      <th>Date of Admission</th>\n",
       "      <th>Doctor</th>\n",
       "      <th>Hospital</th>\n",
       "      <th>Insurance Provider</th>\n",
       "      <th>Billing Amount</th>\n",
       "      <th>Room Number</th>\n",
       "      <th>Admission Type</th>\n",
       "      <th>Discharge Date</th>\n",
       "      <th>Medication</th>\n",
       "      <th>Test Results</th>\n",
       "    </tr>\n",
       "  </thead>\n",
       "  <tbody>\n",
       "    <tr>\n",
       "      <th>0</th>\n",
       "      <td>Norma Fisher</td>\n",
       "      <td>51</td>\n",
       "      <td>Female</td>\n",
       "      <td>AB+</td>\n",
       "      <td>Hypertension</td>\n",
       "      <td>2023-11-24</td>\n",
       "      <td>Susan Wagner</td>\n",
       "      <td>Taylor-Davis</td>\n",
       "      <td>Blue Cross</td>\n",
       "      <td>44652.4</td>\n",
       "      <td>175</td>\n",
       "      <td>Urgent</td>\n",
       "      <td>2024-04-11</td>\n",
       "      <td>Aspirin</td>\n",
       "      <td>Inconclusive</td>\n",
       "    </tr>\n",
       "    <tr>\n",
       "      <th>1</th>\n",
       "      <td>Justin Gomez</td>\n",
       "      <td>58</td>\n",
       "      <td>Male</td>\n",
       "      <td>AB-</td>\n",
       "      <td>Obesity</td>\n",
       "      <td>2024-04-11</td>\n",
       "      <td>Thomas Moon</td>\n",
       "      <td>Cortez Group</td>\n",
       "      <td>Medicare</td>\n",
       "      <td>61651.5</td>\n",
       "      <td>352</td>\n",
       "      <td>Urgent</td>\n",
       "      <td>2024-07-21</td>\n",
       "      <td>Penicillin</td>\n",
       "      <td>Inconclusive</td>\n",
       "    </tr>\n",
       "    <tr>\n",
       "      <th>2</th>\n",
       "      <td>Cheryl Bradley</td>\n",
       "      <td>48</td>\n",
       "      <td>Male</td>\n",
       "      <td>AB-</td>\n",
       "      <td>Diabetes</td>\n",
       "      <td>2020-07-11</td>\n",
       "      <td>Yolanda Burns</td>\n",
       "      <td>Arnold-Mann</td>\n",
       "      <td>Humana</td>\n",
       "      <td>34210.5</td>\n",
       "      <td>376</td>\n",
       "      <td>Emergency</td>\n",
       "      <td>2023-04-01</td>\n",
       "      <td>Lisinopril</td>\n",
       "      <td>Inconclusive</td>\n",
       "    </tr>\n",
       "    <tr>\n",
       "      <th>3</th>\n",
       "      <td>Kyle Cruz</td>\n",
       "      <td>48</td>\n",
       "      <td>Female</td>\n",
       "      <td>B+</td>\n",
       "      <td>Asthma</td>\n",
       "      <td>2021-06-07</td>\n",
       "      <td>Mary Alvarez</td>\n",
       "      <td>Shelton and Sons</td>\n",
       "      <td>Aetna</td>\n",
       "      <td>5298.0</td>\n",
       "      <td>141</td>\n",
       "      <td>Observation</td>\n",
       "      <td>2021-07-28</td>\n",
       "      <td>Lisinopril</td>\n",
       "      <td>Abnormal</td>\n",
       "    </tr>\n",
       "    <tr>\n",
       "      <th>4</th>\n",
       "      <td>Stephanie Lawrence</td>\n",
       "      <td>71</td>\n",
       "      <td>Female</td>\n",
       "      <td>AB-</td>\n",
       "      <td>Obesity</td>\n",
       "      <td>2022-11-19</td>\n",
       "      <td>Brian Matthews</td>\n",
       "      <td>Bruce-Sanchez</td>\n",
       "      <td>Blue Cross</td>\n",
       "      <td>17352.0</td>\n",
       "      <td>212</td>\n",
       "      <td>Urgent</td>\n",
       "      <td>2023-01-21</td>\n",
       "      <td>Penicillin</td>\n",
       "      <td>Abnormal</td>\n",
       "    </tr>\n",
       "  </tbody>\n",
       "</table>\n",
       "</div>"
      ],
      "text/plain": [
       "                 Name  Age  Gender Blood Type Medical Condition  \\\n",
       "0        Norma Fisher   51  Female        AB+      Hypertension   \n",
       "1        Justin Gomez   58    Male        AB-           Obesity   \n",
       "2      Cheryl Bradley   48    Male        AB-          Diabetes   \n",
       "3           Kyle Cruz   48  Female         B+            Asthma   \n",
       "4  Stephanie Lawrence   71  Female        AB-           Obesity   \n",
       "\n",
       "  Date of Admission          Doctor          Hospital Insurance Provider  \\\n",
       "0        2023-11-24    Susan Wagner      Taylor-Davis         Blue Cross   \n",
       "1        2024-04-11     Thomas Moon      Cortez Group           Medicare   \n",
       "2        2020-07-11   Yolanda Burns       Arnold-Mann             Humana   \n",
       "3        2021-06-07    Mary Alvarez  Shelton and Sons              Aetna   \n",
       "4        2022-11-19  Brian Matthews     Bruce-Sanchez         Blue Cross   \n",
       "\n",
       "   Billing Amount  Room Number Admission Type Discharge Date  Medication  \\\n",
       "0         44652.4          175         Urgent     2024-04-11     Aspirin   \n",
       "1         61651.5          352         Urgent     2024-07-21  Penicillin   \n",
       "2         34210.5          376      Emergency     2023-04-01  Lisinopril   \n",
       "3          5298.0          141    Observation     2021-07-28  Lisinopril   \n",
       "4         17352.0          212         Urgent     2023-01-21  Penicillin   \n",
       "\n",
       "   Test Results  \n",
       "0  Inconclusive  \n",
       "1  Inconclusive  \n",
       "2  Inconclusive  \n",
       "3      Abnormal  \n",
       "4      Abnormal  "
      ]
     },
     "execution_count": 18,
     "metadata": {},
     "output_type": "execute_result"
    }
   ],
   "source": [
    "basedados['Date of Admission'] = pd.to_datetime(basedados['Date of Admission'], errors='coerce')\n",
    "basedados['Discharge Date'] = pd.to_datetime(basedados['Discharge Date'], errors='coerce')\n",
    "\n",
    "basedados.head()"
   ]
  },
  {
   "cell_type": "markdown",
   "id": "28f3879a-54fb-444d-8192-66ddab288326",
   "metadata": {},
   "source": [
    "## Remoção de dados duplicados"
   ]
  },
  {
   "cell_type": "code",
   "execution_count": 20,
   "id": "4dab76e4-a742-485f-97a7-d2625baf3057",
   "metadata": {},
   "outputs": [
    {
     "data": {
      "text/html": [
       "<div>\n",
       "<style scoped>\n",
       "    .dataframe tbody tr th:only-of-type {\n",
       "        vertical-align: middle;\n",
       "    }\n",
       "\n",
       "    .dataframe tbody tr th {\n",
       "        vertical-align: top;\n",
       "    }\n",
       "\n",
       "    .dataframe thead th {\n",
       "        text-align: right;\n",
       "    }\n",
       "</style>\n",
       "<table border=\"1\" class=\"dataframe\">\n",
       "  <thead>\n",
       "    <tr style=\"text-align: right;\">\n",
       "      <th></th>\n",
       "      <th>Name</th>\n",
       "      <th>Age</th>\n",
       "      <th>Gender</th>\n",
       "      <th>Blood Type</th>\n",
       "      <th>Medical Condition</th>\n",
       "      <th>Date of Admission</th>\n",
       "      <th>Doctor</th>\n",
       "      <th>Hospital</th>\n",
       "      <th>Insurance Provider</th>\n",
       "      <th>Billing Amount</th>\n",
       "      <th>Room Number</th>\n",
       "      <th>Admission Type</th>\n",
       "      <th>Discharge Date</th>\n",
       "      <th>Medication</th>\n",
       "      <th>Test Results</th>\n",
       "    </tr>\n",
       "  </thead>\n",
       "  <tbody>\n",
       "    <tr>\n",
       "      <th>0</th>\n",
       "      <td>Norma Fisher</td>\n",
       "      <td>51</td>\n",
       "      <td>Female</td>\n",
       "      <td>AB+</td>\n",
       "      <td>Hypertension</td>\n",
       "      <td>2023-11-24</td>\n",
       "      <td>Susan Wagner</td>\n",
       "      <td>Taylor-Davis</td>\n",
       "      <td>Blue Cross</td>\n",
       "      <td>44652.4</td>\n",
       "      <td>175</td>\n",
       "      <td>Urgent</td>\n",
       "      <td>2024-04-11</td>\n",
       "      <td>Aspirin</td>\n",
       "      <td>Inconclusive</td>\n",
       "    </tr>\n",
       "    <tr>\n",
       "      <th>1</th>\n",
       "      <td>Justin Gomez</td>\n",
       "      <td>58</td>\n",
       "      <td>Male</td>\n",
       "      <td>AB-</td>\n",
       "      <td>Obesity</td>\n",
       "      <td>2024-04-11</td>\n",
       "      <td>Thomas Moon</td>\n",
       "      <td>Cortez Group</td>\n",
       "      <td>Medicare</td>\n",
       "      <td>61651.5</td>\n",
       "      <td>352</td>\n",
       "      <td>Urgent</td>\n",
       "      <td>2024-07-21</td>\n",
       "      <td>Penicillin</td>\n",
       "      <td>Inconclusive</td>\n",
       "    </tr>\n",
       "    <tr>\n",
       "      <th>2</th>\n",
       "      <td>Cheryl Bradley</td>\n",
       "      <td>48</td>\n",
       "      <td>Male</td>\n",
       "      <td>AB-</td>\n",
       "      <td>Diabetes</td>\n",
       "      <td>2020-07-11</td>\n",
       "      <td>Yolanda Burns</td>\n",
       "      <td>Arnold-Mann</td>\n",
       "      <td>Humana</td>\n",
       "      <td>34210.5</td>\n",
       "      <td>376</td>\n",
       "      <td>Emergency</td>\n",
       "      <td>2023-04-01</td>\n",
       "      <td>Lisinopril</td>\n",
       "      <td>Inconclusive</td>\n",
       "    </tr>\n",
       "    <tr>\n",
       "      <th>3</th>\n",
       "      <td>Kyle Cruz</td>\n",
       "      <td>48</td>\n",
       "      <td>Female</td>\n",
       "      <td>B+</td>\n",
       "      <td>Asthma</td>\n",
       "      <td>2021-06-07</td>\n",
       "      <td>Mary Alvarez</td>\n",
       "      <td>Shelton and Sons</td>\n",
       "      <td>Aetna</td>\n",
       "      <td>5298.0</td>\n",
       "      <td>141</td>\n",
       "      <td>Observation</td>\n",
       "      <td>2021-07-28</td>\n",
       "      <td>Lisinopril</td>\n",
       "      <td>Abnormal</td>\n",
       "    </tr>\n",
       "    <tr>\n",
       "      <th>4</th>\n",
       "      <td>Stephanie Lawrence</td>\n",
       "      <td>71</td>\n",
       "      <td>Female</td>\n",
       "      <td>AB-</td>\n",
       "      <td>Obesity</td>\n",
       "      <td>2022-11-19</td>\n",
       "      <td>Brian Matthews</td>\n",
       "      <td>Bruce-Sanchez</td>\n",
       "      <td>Blue Cross</td>\n",
       "      <td>17352.0</td>\n",
       "      <td>212</td>\n",
       "      <td>Urgent</td>\n",
       "      <td>2023-01-21</td>\n",
       "      <td>Penicillin</td>\n",
       "      <td>Abnormal</td>\n",
       "    </tr>\n",
       "  </tbody>\n",
       "</table>\n",
       "</div>"
      ],
      "text/plain": [
       "                 Name  Age  Gender Blood Type Medical Condition  \\\n",
       "0        Norma Fisher   51  Female        AB+      Hypertension   \n",
       "1        Justin Gomez   58    Male        AB-           Obesity   \n",
       "2      Cheryl Bradley   48    Male        AB-          Diabetes   \n",
       "3           Kyle Cruz   48  Female         B+            Asthma   \n",
       "4  Stephanie Lawrence   71  Female        AB-           Obesity   \n",
       "\n",
       "  Date of Admission          Doctor          Hospital Insurance Provider  \\\n",
       "0        2023-11-24    Susan Wagner      Taylor-Davis         Blue Cross   \n",
       "1        2024-04-11     Thomas Moon      Cortez Group           Medicare   \n",
       "2        2020-07-11   Yolanda Burns       Arnold-Mann             Humana   \n",
       "3        2021-06-07    Mary Alvarez  Shelton and Sons              Aetna   \n",
       "4        2022-11-19  Brian Matthews     Bruce-Sanchez         Blue Cross   \n",
       "\n",
       "   Billing Amount  Room Number Admission Type Discharge Date  Medication  \\\n",
       "0         44652.4          175         Urgent     2024-04-11     Aspirin   \n",
       "1         61651.5          352         Urgent     2024-07-21  Penicillin   \n",
       "2         34210.5          376      Emergency     2023-04-01  Lisinopril   \n",
       "3          5298.0          141    Observation     2021-07-28  Lisinopril   \n",
       "4         17352.0          212         Urgent     2023-01-21  Penicillin   \n",
       "\n",
       "   Test Results  \n",
       "0  Inconclusive  \n",
       "1  Inconclusive  \n",
       "2  Inconclusive  \n",
       "3      Abnormal  \n",
       "4      Abnormal  "
      ]
     },
     "execution_count": 20,
     "metadata": {},
     "output_type": "execute_result"
    }
   ],
   "source": [
    "basedados.drop_duplicates(inplace=True)\n",
    "\n",
    "basedados.head()"
   ]
  },
  {
   "cell_type": "markdown",
   "id": "f160d30f-2479-47a3-a51e-15022074b1db",
   "metadata": {},
   "source": [
    "## Correção de erros de formatação nas colunas de CATEGORIAS"
   ]
  },
  {
   "cell_type": "code",
   "execution_count": 22,
   "id": "6101cf68-6e68-4678-8a86-fe70e3381058",
   "metadata": {},
   "outputs": [
    {
     "data": {
      "text/html": [
       "<div>\n",
       "<style scoped>\n",
       "    .dataframe tbody tr th:only-of-type {\n",
       "        vertical-align: middle;\n",
       "    }\n",
       "\n",
       "    .dataframe tbody tr th {\n",
       "        vertical-align: top;\n",
       "    }\n",
       "\n",
       "    .dataframe thead th {\n",
       "        text-align: right;\n",
       "    }\n",
       "</style>\n",
       "<table border=\"1\" class=\"dataframe\">\n",
       "  <thead>\n",
       "    <tr style=\"text-align: right;\">\n",
       "      <th></th>\n",
       "      <th>Name</th>\n",
       "      <th>Age</th>\n",
       "      <th>Gender</th>\n",
       "      <th>Blood Type</th>\n",
       "      <th>Medical Condition</th>\n",
       "      <th>Date of Admission</th>\n",
       "      <th>Doctor</th>\n",
       "      <th>Hospital</th>\n",
       "      <th>Insurance Provider</th>\n",
       "      <th>Billing Amount</th>\n",
       "      <th>Room Number</th>\n",
       "      <th>Admission Type</th>\n",
       "      <th>Discharge Date</th>\n",
       "      <th>Medication</th>\n",
       "      <th>Test Results</th>\n",
       "    </tr>\n",
       "  </thead>\n",
       "  <tbody>\n",
       "    <tr>\n",
       "      <th>0</th>\n",
       "      <td>Norma Fisher</td>\n",
       "      <td>51</td>\n",
       "      <td>Female</td>\n",
       "      <td>AB+</td>\n",
       "      <td>Hypertension</td>\n",
       "      <td>2023-11-24</td>\n",
       "      <td>Susan Wagner</td>\n",
       "      <td>Taylor-Davis</td>\n",
       "      <td>Blue Cross</td>\n",
       "      <td>44652.4</td>\n",
       "      <td>175</td>\n",
       "      <td>Urgent</td>\n",
       "      <td>2024-04-11</td>\n",
       "      <td>Aspirin</td>\n",
       "      <td>Inconclusive</td>\n",
       "    </tr>\n",
       "    <tr>\n",
       "      <th>1</th>\n",
       "      <td>Justin Gomez</td>\n",
       "      <td>58</td>\n",
       "      <td>Male</td>\n",
       "      <td>AB-</td>\n",
       "      <td>Obesity</td>\n",
       "      <td>2024-04-11</td>\n",
       "      <td>Thomas Moon</td>\n",
       "      <td>Cortez Group</td>\n",
       "      <td>Medicare</td>\n",
       "      <td>61651.5</td>\n",
       "      <td>352</td>\n",
       "      <td>Urgent</td>\n",
       "      <td>2024-07-21</td>\n",
       "      <td>Penicillin</td>\n",
       "      <td>Inconclusive</td>\n",
       "    </tr>\n",
       "    <tr>\n",
       "      <th>2</th>\n",
       "      <td>Cheryl Bradley</td>\n",
       "      <td>48</td>\n",
       "      <td>Male</td>\n",
       "      <td>AB-</td>\n",
       "      <td>Diabetes</td>\n",
       "      <td>2020-07-11</td>\n",
       "      <td>Yolanda Burns</td>\n",
       "      <td>Arnold-Mann</td>\n",
       "      <td>Humana</td>\n",
       "      <td>34210.5</td>\n",
       "      <td>376</td>\n",
       "      <td>Emergency</td>\n",
       "      <td>2023-04-01</td>\n",
       "      <td>Lisinopril</td>\n",
       "      <td>Inconclusive</td>\n",
       "    </tr>\n",
       "    <tr>\n",
       "      <th>3</th>\n",
       "      <td>Kyle Cruz</td>\n",
       "      <td>48</td>\n",
       "      <td>Female</td>\n",
       "      <td>B+</td>\n",
       "      <td>Asthma</td>\n",
       "      <td>2021-06-07</td>\n",
       "      <td>Mary Alvarez</td>\n",
       "      <td>Shelton and Sons</td>\n",
       "      <td>Aetna</td>\n",
       "      <td>5298.0</td>\n",
       "      <td>141</td>\n",
       "      <td>Observation</td>\n",
       "      <td>2021-07-28</td>\n",
       "      <td>Lisinopril</td>\n",
       "      <td>Abnormal</td>\n",
       "    </tr>\n",
       "    <tr>\n",
       "      <th>4</th>\n",
       "      <td>Stephanie Lawrence</td>\n",
       "      <td>71</td>\n",
       "      <td>Female</td>\n",
       "      <td>AB-</td>\n",
       "      <td>Obesity</td>\n",
       "      <td>2022-11-19</td>\n",
       "      <td>Brian Matthews</td>\n",
       "      <td>Bruce-Sanchez</td>\n",
       "      <td>Blue Cross</td>\n",
       "      <td>17352.0</td>\n",
       "      <td>212</td>\n",
       "      <td>Urgent</td>\n",
       "      <td>2023-01-21</td>\n",
       "      <td>Penicillin</td>\n",
       "      <td>Abnormal</td>\n",
       "    </tr>\n",
       "  </tbody>\n",
       "</table>\n",
       "</div>"
      ],
      "text/plain": [
       "                 Name  Age  Gender Blood Type Medical Condition  \\\n",
       "0        Norma Fisher   51  Female        AB+      Hypertension   \n",
       "1        Justin Gomez   58    Male        AB-           Obesity   \n",
       "2      Cheryl Bradley   48    Male        AB-          Diabetes   \n",
       "3           Kyle Cruz   48  Female         B+            Asthma   \n",
       "4  Stephanie Lawrence   71  Female        AB-           Obesity   \n",
       "\n",
       "  Date of Admission          Doctor          Hospital Insurance Provider  \\\n",
       "0        2023-11-24    Susan Wagner      Taylor-Davis         Blue Cross   \n",
       "1        2024-04-11     Thomas Moon      Cortez Group           Medicare   \n",
       "2        2020-07-11   Yolanda Burns       Arnold-Mann             Humana   \n",
       "3        2021-06-07    Mary Alvarez  Shelton and Sons              Aetna   \n",
       "4        2022-11-19  Brian Matthews     Bruce-Sanchez         Blue Cross   \n",
       "\n",
       "   Billing Amount  Room Number Admission Type Discharge Date  Medication  \\\n",
       "0         44652.4          175         Urgent     2024-04-11     Aspirin   \n",
       "1         61651.5          352         Urgent     2024-07-21  Penicillin   \n",
       "2         34210.5          376      Emergency     2023-04-01  Lisinopril   \n",
       "3          5298.0          141    Observation     2021-07-28  Lisinopril   \n",
       "4         17352.0          212         Urgent     2023-01-21  Penicillin   \n",
       "\n",
       "   Test Results  \n",
       "0  Inconclusive  \n",
       "1  Inconclusive  \n",
       "2  Inconclusive  \n",
       "3      Abnormal  \n",
       "4      Abnormal  "
      ]
     },
     "execution_count": 22,
     "metadata": {},
     "output_type": "execute_result"
    }
   ],
   "source": [
    "basedados['Gender'] = basedados['Gender'].str.strip()  # Remove espaços em branco\n",
    "basedados['Medical Condition'] = basedados['Medical Condition'].str.strip()\n",
    "\n",
    "basedados.head()"
   ]
  },
  {
   "cell_type": "markdown",
   "id": "40d8565b-452e-4b52-8260-49f6670b7b18",
   "metadata": {},
   "source": [
    "# Passo 5 - Análise de dados"
   ]
  },
  {
   "cell_type": "markdown",
   "id": "f7e3ef94-ff16-4be0-8f4b-369c14742161",
   "metadata": {},
   "source": [
    "Como se trata de uma base de dados (DataFrame) de dados médicos, especificamente sobre dados a cerca de valores cobrados por diferentes convênios médicos, vamos começar com:"
   ]
  },
  {
   "cell_type": "markdown",
   "id": "39669fd3-1cb8-4aa0-a3ae-4d2b06d60a61",
   "metadata": {},
   "source": [
    "## Distribuição de idades"
   ]
  },
  {
   "cell_type": "code",
   "execution_count": 42,
   "id": "952346db-bb3d-4c90-aa4a-985ddb579c85",
   "metadata": {},
   "outputs": [
    {
     "data": {
      "image/png": "[encoded data removed]",
      "text/plain": [
       "<Figure size 1000x600 with 1 Axes>"
      ]
     },
     "metadata": {},
     "output_type": "display_data"
    }
   ],
   "source": [
    "import matplotlib.pyplot as plt\n",
    "import seaborn as sns\n",
    "\n",
    "plt.figure(figsize=(10, 6))\n",
    "sns.histplot(basedados['Age'], bins=20, kde=True)\n",
    "plt.title('Distribuição de Idades dos Pacientes')\n",
    "plt.xlabel('Idade')\n",
    "plt.ylabel('Frequência')\n",
    "plt.show()"
   ]
  },
  {
   "cell_type": "markdown",
   "id": "2d810ccf-4544-4ec5-938a-9fa9450cc20e",
   "metadata": {},
   "source": [
    "## Contagem das condições médicas"
   ]
  },
  {
   "cell_type": "code",
   "execution_count": 37,
   "id": "197005c4-2e66-466d-b86a-fef044f2e2d2",
   "metadata": {},
   "outputs": [
    {
     "data": {
      "image/png": "[encoded data removed]",
      "text/plain": [
       "<Figure size 1200x600 with 1 Axes>"
      ]
     },
     "metadata": {},
     "output_type": "display_data"
    }
   ],
   "source": [
    "plt.figure(figsize=(12, 6))\n",
    "sns.countplot(data=basedados, y='Medical Condition', order=basedados['Medical Condition'].value_counts().index)\n",
    "plt.title('Contagem de Condições Médicas')\n",
    "plt.xlabel('Contagem')\n",
    "plt.ylabel('Condição Médica')\n",
    "plt.show()"
   ]
  },
  {
   "cell_type": "markdown",
   "id": "a1c63f78-a2dd-4d04-b768-bf3ef5e84d1e",
   "metadata": {},
   "source": [
    "## Análise de doenças mais recorrentes em cada faixa etária"
   ]
  },
  {
   "cell_type": "code",
   "execution_count": 40,
   "id": "6fa3d7ce-1cd7-409f-acd6-aa7978b67b9e",
   "metadata": {},
   "outputs": [
    {
     "data": {
      "text/plain": [
       "<Figure size 1200x800 with 0 Axes>"
      ]
     },
     "metadata": {},
     "output_type": "display_data"
    },
    {
     "data": {
      "image/png": "[encoded data removed]",
      "text/plain": [
       "<Figure size 1200x800 with 1 Axes>"
      ]
     },
     "metadata": {},
     "output_type": "display_data"
    }
   ],
   "source": [
    "import pandas as pd\n",
    "import matplotlib.pyplot as plt\n",
    "\n",
    "faixas_etarias = [0, 18, 30, 40, 50, 60, 70, 80, 100]\n",
    "rotulos = ['0-18', '19-30', '31-40', '41-50', '51-60', '61-70', '71-80', '81+']\n",
    "basedados['Age Group'] = pd.cut(basedados['Age'], bins=faixas_etarias, labels=rotulos, right=False)\n",
    "\n",
    "condicao_idade = basedados.groupby(['Age Group', 'Medical Condition'], observed=False).size().unstack(fill_value=0)\n",
    "\n",
    "plt.figure(figsize=(12, 8))\n",
    "condicao_idade.plot(kind='bar', stacked=True, figsize=(12, 8))\n",
    "plt.title('Incidência de Condições Médicas por Faixa Etária')\n",
    "plt.xlabel('Faixa Etária')\n",
    "plt.ylabel('Contagem de Pacientes')\n",
    "plt.legend(title='Condição Médica')\n",
    "plt.show()"
   ]
  },
  {
   "cell_type": "markdown",
   "id": "666c2fbf-8d09-45d0-b411-777c02b5388b",
   "metadata": {},
   "source": [
    "## Correlação entre Idade e Custo da Internação\n",
    "\n",
    "Calculamos a correlação entre a idade dos pacientes e o custo da internação para verificar se pacientes de certas faixas etárias têm maior custo médio de internação. O resultado dessa análise pode ajudar em políticas de seguro e gerenciamento de custos."
   ]
  },
  {
   "cell_type": "code",
   "execution_count": 38,
   "id": "fd3d7a57-8895-4e95-b009-d38c957be7b8",
   "metadata": {},
   "outputs": [
    {
     "data": {
      "text/plain": [
       "<Figure size 1200x800 with 0 Axes>"
      ]
     },
     "metadata": {},
     "output_type": "display_data"
    },
    {
     "data": {
      "image/png": "[encoded data removed]",
      "text/plain": [
       "<Figure size 1200x800 with 1 Axes>"
      ]
     },
     "metadata": {},
     "output_type": "display_data"
    }
   ],
   "source": [
    "contagem_condicao_genero = basedados.groupby(['Gender', 'Medical Condition']).size().unstack(fill_value=0)\n",
    "\n",
    "plt.figure(figsize=(12, 8))\n",
    "contagem_condicao_genero.plot(kind='bar', stacked=True, figsize=(12, 8))\n",
    "plt.title('Incidência de Condições Médicas por Gênero')\n",
    "plt.xlabel('Gênero')\n",
    "plt.ylabel('Contagem de Pacientes')\n",
    "plt.legend(title='Condição Médica')\n",
    "plt.show()"
   ]
  },
  {
   "cell_type": "code",
   "execution_count": 36,
   "id": "9ccde844-ec7e-4915-aca6-34623a18076d",
   "metadata": {},
   "outputs": [
    {
     "data": {
      "image/png": "[encoded data removed]",
      "text/plain": [
       "<Figure size 1000x600 with 1 Axes>"
      ]
     },
     "metadata": {},
     "output_type": "display_data"
    }
   ],
   "source": [
    "custos_idade = basedados.groupby('Age Group', observed=False)['Billing Amount'].mean()\n",
    "\n",
    "plt.figure(figsize=(10, 6))\n",
    "custos_idade.plot(kind='bar', color='skyblue')\n",
    "plt.title('Custo Médio de valor cobrado por Faixa Etária')\n",
    "plt.xlabel('Faixa Etária')\n",
    "plt.ylabel('Custo Médio da Fatura')\n",
    "plt.xticks(rotation=45)\n",
    "plt.show()"
   ]
  },
  {
   "cell_type": "markdown",
   "id": "30b138d7-2f58-4dd3-a3e7-5e7c78102163",
   "metadata": {},
   "source": [
    "## Análise das doenças mais recorrentes, por genêro"
   ]
  },
  {
   "cell_type": "markdown",
   "id": "53e5e3e6-1b5a-43b9-b33b-60a7255da44c",
   "metadata": {},
   "source": [
    "# Apuração de possíveis fraudes/anomalias"
   ]
  },
  {
   "cell_type": "code",
   "execution_count": 44,
   "id": "ed7fe7cf-1f93-4c45-9754-6f5a49b5f52f",
   "metadata": {},
   "outputs": [
    {
     "data": {
      "image/png": "[encoded data removed]",
      "text/plain": [
       "<Figure size 1000x600 with 1 Axes>"
      ]
     },
     "metadata": {},
     "output_type": "display_data"
    },
    {
     "name": "stdout",
     "output_type": "stream",
     "text": [
      "Condições médicas com custos extremamente altos:\n"
     ]
    },
    {
     "data": {
      "text/html": [
       "<div>\n",
       "<style scoped>\n",
       "    .dataframe tbody tr th:only-of-type {\n",
       "        vertical-align: middle;\n",
       "    }\n",
       "\n",
       "    .dataframe tbody tr th {\n",
       "        vertical-align: top;\n",
       "    }\n",
       "\n",
       "    .dataframe thead th {\n",
       "        text-align: right;\n",
       "    }\n",
       "</style>\n",
       "<table border=\"1\" class=\"dataframe\">\n",
       "  <thead>\n",
       "    <tr style=\"text-align: right;\">\n",
       "      <th></th>\n",
       "      <th>Medical Condition</th>\n",
       "      <th>Billing Amount</th>\n",
       "    </tr>\n",
       "  </thead>\n",
       "  <tbody>\n",
       "    <tr>\n",
       "      <th>34</th>\n",
       "      <td>Asthma</td>\n",
       "      <td>178488.0</td>\n",
       "    </tr>\n",
       "    <tr>\n",
       "      <th>121</th>\n",
       "      <td>Heart Disease</td>\n",
       "      <td>142072.0</td>\n",
       "    </tr>\n",
       "  </tbody>\n",
       "</table>\n",
       "</div>"
      ],
      "text/plain": [
       "    Medical Condition  Billing Amount\n",
       "34             Asthma        178488.0\n",
       "121     Heart Disease        142072.0"
      ]
     },
     "metadata": {},
     "output_type": "display_data"
    }
   ],
   "source": [
    "plt.figure(figsize=(10, 6))\n",
    "sns.boxplot(x=basedados['Billing Amount'])\n",
    "plt.title('Boxplot do Valor da Fatura')\n",
    "plt.xlabel('Valor da Fatura')\n",
    "plt.show()\n",
    "\n",
    "custos_altos = basedados[basedados['Billing Amount'] > basedados['Billing Amount'].mean() + 3 * basedados['Billing Amount'].std()]\n",
    "print(\"Condições médicas com custos extremamente altos:\")\n",
    "display(custos_altos[['Medical Condition', 'Billing Amount']])"
   ]
  },
  {
   "cell_type": "markdown",
   "id": "c2b22110-bc16-4935-a7ad-4908c066126e",
   "metadata": {},
   "source": [
    "## Conclusão\n",
    "\n",
    "A análise dos dados de saúde revelou informações valiosas para convênios médicos, ajudando a direcionar estratégias de atendimento e desenvolvimento de planos. Abaixo estão os principais insights:\n",
    "\n",
    "### Faixa Etária dos Pacientes\n",
    "Pacientes com 30 anos representam a maior parte dos clientes em potencial, o que sugere um público-alvo com grande adesão a planos de saúde. Isso pode orientar os convênios a desenvolver pacotes ou planos específicos para essa faixa etária.\n",
    "\n",
    "### Contagem Total das Condições Médicas (Doenças)\n",
    "Diabetes é a condição médica mais comum entre os pacientes analisados. Esse dado é relevante para que convênios se preparem para atender um volume significativo de pacientes diabéticos, ajustando a oferta de tratamentos e recursos.\n",
    "\n",
    "### Contagem das Condições Médicas por Faixa Etária\n",
    "- Há maior incidência de diabetes em pacientes de 19-30 e 61-70 anos.\n",
    "- Asma é mais incidente em pacientes de 31-40 e 71-80 anos.\n",
    "- Hipertensão é menos comum entre pacientes de 61-70 anos.\n",
    "- Problemas cardíacos são menos comuns em pacientes de 19-30 e 71-80 anos.\n",
    "- A obesidade é comum em várias faixas etárias, exceto entre 31-40 anos.\n",
    "\n",
    "Essas informações auxiliam convênios a se prepararem para os quadros clínicos mais prováveis em diferentes faixas etárias, ajudando na previsão de custos e no direcionamento de recursos.\n",
    "\n",
    "### Contagem das Condições Médicas por Gênero\n",
    "Obesidade, hipertensão e problemas cardíacos são consideravelmente mais incidentes em homens, enquanto diabetes e asma têm maior prevalência em mulheres. Isso sugere que convênios devem estar preparados para maiores custos relacionados a essas condições, dependendo do gênero do paciente.\n",
    "\n",
    "### Custo Médio de Internação por Faixa Etária\n",
    "Pacientes com 81 anos ou mais apresentaram o menor custo médio de internação, seguidos pela faixa etária de 19-30 anos. Em contrapartida, os pacientes de 71-80 e 61-70 anos apresentaram os maiores custos. Esse dado é relevante para estimar os custos de internação e ajustar os planos oferecidos conforme as faixas etárias.\n",
    "\n",
    "### Identificação de Outliers nas Faturas\n",
    "Foram detectadas anomalias nos valores das faturas para os pacientes de ID 34 e ID 121, com valores significativamente acima da média. Identificar outliers permite que convênios verifiquem possíveis erros de faturamento ou casos que exijam análise adicional.\n",
    "\n",
    "### Dados Complementares\n",
    "Foi observado que haviam dados nulos na base, com 5 nomes e 25 valores de faturas ausentes.\n",
    "\n",
    "Esses insights apoiam o planejamento de pacotes direcionados e a previsão de custos médicos com base nas condições mais comuns e nas características demográficas observadas."
   ]
  }
 ],
 "metadata": {
  "kernelspec": {
   "display_name": "Python 3 (ipykernel)",
   "language": "python",
   "name": "python3"
  },
  "language_info": {
   "codemirror_mode": {
    "name": "ipython",
    "version": 3
   },
   "file_extension": ".py",
   "mimetype": "text/x-python",
   "name": "python",
   "nbconvert_exporter": "python",
   "pygments_lexer": "ipython3",
   "version": "3.12.7"
  }
 },
 "nbformat": 4,
 "nbformat_minor": 5
}
